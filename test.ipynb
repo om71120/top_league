{
 "cells": [
  {
   "cell_type": "code",
   "execution_count": 10,
   "metadata": {},
   "outputs": [],
   "source": [
    "from ulits import process_new\n"
   ]
  },
  {
   "cell_type": "code",
   "execution_count": 11,
   "metadata": {},
   "outputs": [],
   "source": [
    "#new_data = [\"Spain\", \"La Liga\", \"BET\",\"Juanmi Callejon\",19,16,1849,11,0.34,48,20,2.47,1.03,2020,97,315789,0.416667]\n",
    " #df_new=pd.DataFrame([new_data])"
   ]
  },
  {
   "cell_type": "code",
   "execution_count": 12,
   "metadata": {},
   "outputs": [
    {
     "data": {
      "text/plain": [
       "<1x563 sparse matrix of type '<class 'numpy.float64'>'\n",
       "\twith 16 stored elements in Compressed Sparse Row format>"
      ]
     },
     "execution_count": 12,
     "metadata": {},
     "output_type": "execute_result"
    }
   ],
   "source": [
    "new_data = [\"Spain\",\"La Liga\",\"BET\",\"Juanmi Callejon\",19,16,1849,11,0.34,48,20,2.47,1.03,2016,97.315789,0.416667]\n",
    "process_new(x_new=new_data)"
   ]
  }
 ],
 "metadata": {
  "kernelspec": {
   "display_name": "fifa",
   "language": "python",
   "name": "python3"
  },
  "language_info": {
   "codemirror_mode": {
    "name": "ipython",
    "version": 3
   },
   "file_extension": ".py",
   "mimetype": "text/x-python",
   "name": "python",
   "nbconvert_exporter": "python",
   "pygments_lexer": "ipython3",
   "version": "3.10.9"
  }
 },
 "nbformat": 4,
 "nbformat_minor": 2
}
